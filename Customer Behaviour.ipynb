{
 "cells": [
  {
   "cell_type": "code",
   "execution_count": 70,
   "id": "7b372d25",
   "metadata": {},
   "outputs": [],
   "source": [
    "#import relevant libraries\n",
    "import numpy as np\n",
    "import tensorflow as tf\n"
   ]
  },
  {
   "cell_type": "code",
   "execution_count": 71,
   "id": "59a8d647",
   "metadata": {},
   "outputs": [],
   "source": [
    "#Load data\n",
    "npz = np.load('Audiobooks_data_train.npz')\n",
    "\n",
    "#make all inputs float and target as integer to unsure there is no approximations and the model learns well\n",
    "train_input = npz['inputs'].astype(float)\n",
    "train_target = npz['targets'].astype(int)\n",
    "\n",
    "npz = np.load('Audiobooks_data_validation.npz')\n",
    "\n",
    "validation_input, validation_target = npz['inputs'].astype(float), npz['targets'].astype(int)\n",
    "\n",
    "\n",
    "\n",
    "npz = np.load('Audiobooks_data_test.npz')\n",
    "\n",
    "test_input, test_target = npz['inputs'].astype(float), npz['targets'].astype(int)\n",
    "\n",
    "\n"
   ]
  },
  {
   "cell_type": "code",
   "execution_count": 72,
   "id": "be365b4e",
   "metadata": {},
   "outputs": [
    {
     "name": "stdout",
     "output_type": "stream",
     "text": [
      "Epoch 1/100\n",
      "36/36 - 1s - loss: 0.5902 - accuracy: 0.6977 - val_loss: 0.5150 - val_accuracy: 0.7293 - 1s/epoch - 37ms/step\n",
      "Epoch 2/100\n",
      "36/36 - 0s - loss: 0.4569 - accuracy: 0.7756 - val_loss: 0.4455 - val_accuracy: 0.7584 - 116ms/epoch - 3ms/step\n",
      "Epoch 3/100\n",
      "36/36 - 0s - loss: 0.4059 - accuracy: 0.7949 - val_loss: 0.4226 - val_accuracy: 0.7584 - 115ms/epoch - 3ms/step\n",
      "Epoch 4/100\n",
      "36/36 - 0s - loss: 0.3838 - accuracy: 0.7910 - val_loss: 0.4021 - val_accuracy: 0.7606 - 110ms/epoch - 3ms/step\n",
      "Epoch 5/100\n",
      "36/36 - 0s - loss: 0.3697 - accuracy: 0.8008 - val_loss: 0.3924 - val_accuracy: 0.7763 - 115ms/epoch - 3ms/step\n",
      "Epoch 6/100\n",
      "36/36 - 0s - loss: 0.3595 - accuracy: 0.8036 - val_loss: 0.3777 - val_accuracy: 0.8031 - 120ms/epoch - 3ms/step\n",
      "Epoch 7/100\n",
      "36/36 - 0s - loss: 0.3548 - accuracy: 0.8066 - val_loss: 0.3784 - val_accuracy: 0.7830 - 114ms/epoch - 3ms/step\n",
      "Epoch 8/100\n",
      "36/36 - 0s - loss: 0.3497 - accuracy: 0.8117 - val_loss: 0.3763 - val_accuracy: 0.7852 - 111ms/epoch - 3ms/step\n",
      "Epoch 9/100\n",
      "36/36 - 0s - loss: 0.3447 - accuracy: 0.8161 - val_loss: 0.3650 - val_accuracy: 0.7964 - 120ms/epoch - 3ms/step\n",
      "Epoch 10/100\n",
      "36/36 - 0s - loss: 0.3392 - accuracy: 0.8136 - val_loss: 0.3610 - val_accuracy: 0.7897 - 114ms/epoch - 3ms/step\n",
      "Epoch 11/100\n",
      "36/36 - 0s - loss: 0.3366 - accuracy: 0.8145 - val_loss: 0.3581 - val_accuracy: 0.7897 - 130ms/epoch - 4ms/step\n",
      "Epoch 12/100\n",
      "36/36 - 0s - loss: 0.3343 - accuracy: 0.8181 - val_loss: 0.3564 - val_accuracy: 0.7942 - 115ms/epoch - 3ms/step\n",
      "Epoch 13/100\n",
      "36/36 - 0s - loss: 0.3326 - accuracy: 0.8192 - val_loss: 0.3528 - val_accuracy: 0.7919 - 125ms/epoch - 3ms/step\n",
      "Epoch 14/100\n",
      "36/36 - 0s - loss: 0.3314 - accuracy: 0.8229 - val_loss: 0.3549 - val_accuracy: 0.7942 - 119ms/epoch - 3ms/step\n",
      "Epoch 15/100\n",
      "36/36 - 0s - loss: 0.3298 - accuracy: 0.8217 - val_loss: 0.3534 - val_accuracy: 0.7830 - 118ms/epoch - 3ms/step\n"
     ]
    },
    {
     "data": {
      "text/plain": [
       "<keras.callbacks.History at 0x1c1d62e2370>"
      ]
     },
     "execution_count": 72,
     "metadata": {},
     "output_type": "execute_result"
    }
   ],
   "source": [
    "#Build the Model\n",
    "\n",
    "\n",
    "input_size = 10\n",
    "output_size = 2\n",
    "hidden_layer_size = 50\n",
    "\n",
    "\n",
    "model = tf.keras.Sequential([\n",
    "        tf.keras.layers.Dense(hidden_layer_size, activation='relu'),\n",
    "        tf.keras.layers.Dense(hidden_layer_size, activation='relu'),\n",
    "\n",
    "\n",
    "\n",
    "\n",
    "        tf.keras.layers.Dense(output_size, activation='softmax')\n",
    "        ])\n",
    "\n",
    "# Choose the Optimizer and the loss function\n",
    "\n",
    "model.compile(\n",
    "\n",
    "optimizer = tf.keras.optimizers.Adam(learning_rate=0.001)\n",
    "\n",
    ", loss='sparse_categorical_crossentropy', metrics=['accuracy'])\n",
    "\n",
    "batch_size = 100\n",
    "max_epoch = 100\n",
    "\n",
    "early_stopping = tf.keras.callbacks.EarlyStopping(patience=2)\n",
    "\n",
    "model.fit(train_input, \n",
    "          train_target,\n",
    "          batch_size = batch_size,\n",
    "          epochs = max_epoch,\n",
    "          callbacks = [early_stopping],\n",
    "          validation_data = (validation_input, validation_target),\n",
    "          verbose = 2\n",
    ")\n"
   ]
  },
  {
   "cell_type": "code",
   "execution_count": 74,
   "id": "451305f5",
   "metadata": {},
   "outputs": [
    {
     "name": "stdout",
     "output_type": "stream",
     "text": [
      "14/14 [==============================] - 0s 2ms/step - loss: 0.3386 - accuracy: 0.8036\n"
     ]
    }
   ],
   "source": [
    "#Test the model\n",
    "\n",
    "test_loss, test_accuracy = model.evaluate(test_input, test_target)\n"
   ]
  },
  {
   "cell_type": "code",
   "execution_count": 84,
   "id": "5320581a",
   "metadata": {},
   "outputs": [
    {
     "name": "stdout",
     "output_type": "stream",
     "text": [
      "Test_loss: 0.34. Test_Accuracy: 80.36%\n"
     ]
    }
   ],
   "source": [
    "print(f'Test_loss: {test_loss:.2f}. Test_Accuracy: {test_accuracy*100:.2f}%')"
   ]
  },
  {
   "cell_type": "code",
   "execution_count": null,
   "id": "06bae83a",
   "metadata": {},
   "outputs": [],
   "source": []
  }
 ],
 "metadata": {
  "kernelspec": {
   "display_name": "Python 3 (ipykernel)",
   "language": "python",
   "name": "python3"
  },
  "language_info": {
   "codemirror_mode": {
    "name": "ipython",
    "version": 3
   },
   "file_extension": ".py",
   "mimetype": "text/x-python",
   "name": "python",
   "nbconvert_exporter": "python",
   "pygments_lexer": "ipython3",
   "version": "3.9.12"
  }
 },
 "nbformat": 4,
 "nbformat_minor": 5
}
