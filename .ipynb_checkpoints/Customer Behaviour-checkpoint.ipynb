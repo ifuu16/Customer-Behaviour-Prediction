{
 "cells": [
  {
   "cell_type": "code",
   "execution_count": 50,
   "id": "7b372d25",
   "metadata": {},
   "outputs": [],
   "source": [
    "#import relevant libraries\n",
    "import numpy as np\n",
    "import tensorflow as tf\n"
   ]
  },
  {
   "cell_type": "code",
   "execution_count": 51,
   "id": "59a8d647",
   "metadata": {},
   "outputs": [],
   "source": [
    "#Load data\n",
    "npz = np.load('Audiobooks_data_train.npz')\n",
    "\n",
    "#make all inputs float and target as integer to unsure there is no approximations and the model learns well\n",
    "train_input = npz['inputs'].astype(float)\n",
    "train_target = npz['targets'].astype(int)\n",
    "\n",
    "npz = np.load('Audiobooks_data_validation.npz')\n",
    "\n",
    "validation_input, validation_target = npz['inputs'].astype(float), npz['targets'].astype(int)\n",
    "\n",
    "\n",
    "\n",
    "npz = np.load('Audiobooks_data_test.npz')\n",
    "\n",
    "test_input, test_target = npz['inputs'].astype(float), npz['targets'].astype(int)\n",
    "\n",
    "\n"
   ]
  },
  {
   "cell_type": "code",
   "execution_count": null,
   "id": "be365b4e",
   "metadata": {},
   "outputs": [],
   "source": [
    "#Build the Model\n",
    "\n",
    "\n",
    "input_size = 10\n",
    "output_size = 2\n",
    "hidden_layer_size = 200\n",
    "\n",
    "\n",
    "model = tf.keras.Sequential([\n",
    "        tf.keras.layers.Dense(hidden_layer_size, activation='relu'),\n",
    "        tf.keras.layers.Dense(hidden_layer_size, activation='relu'),\n",
    "\n",
    "        tf.keras.layers.Dense(output_size, activation='softmax')\n",
    "        ])\n",
    "\n",
    "# Choose the Optimizer and the loss function\n",
    "\n",
    "model.compile(optimizer = tf.keras.optimizers.Adam(learning_rate=0.001)\n",
    ", loss='sparse_categorical_crossentropy', metrics=['accuracy'])\n",
    "\n",
    "batch_size = 100\n",
    "max_epoch = 100\n",
    "\n",
    "model.fit(train_input, \n",
    "          train_target,\n",
    "          batch_size = batch_size,\n",
    "          epochs = max_epoch,\n",
    "          validation_data = (validation_input, validation_target),\n",
    "          verbose = 2\n",
    ")\n"
   ]
  },
  {
   "cell_type": "code",
   "execution_count": null,
   "id": "451305f5",
   "metadata": {},
   "outputs": [],
   "source": []
  },
  {
   "cell_type": "code",
   "execution_count": null,
   "id": "5320581a",
   "metadata": {},
   "outputs": [],
   "source": []
  }
 ],
 "metadata": {
  "kernelspec": {
   "display_name": "Python 3 (ipykernel)",
   "language": "python",
   "name": "python3"
  },
  "language_info": {
   "codemirror_mode": {
    "name": "ipython",
    "version": 3
   },
   "file_extension": ".py",
   "mimetype": "text/x-python",
   "name": "python",
   "nbconvert_exporter": "python",
   "pygments_lexer": "ipython3",
   "version": "3.9.12"
  }
 },
 "nbformat": 4,
 "nbformat_minor": 5
}
