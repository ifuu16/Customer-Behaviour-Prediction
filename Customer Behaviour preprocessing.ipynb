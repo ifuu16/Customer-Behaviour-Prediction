{
 "cells": [
  {
   "cell_type": "code",
   "execution_count": 1,
   "id": "789b9019",
   "metadata": {},
   "outputs": [
    {
     "data": {
      "text/plain": [
       "(14084, 12)"
      ]
     },
     "execution_count": 1,
     "metadata": {},
     "output_type": "execute_result"
    }
   ],
   "source": [
    "#import relevant library\n",
    "import numpy as np\n",
    "from sklearn import preprocessing\n",
    "\n",
    "raw_data = np.loadtxt('Audiobooks_data.csv', delimiter = ',')\n",
    "\n",
    "unscaled_inputs_all = raw_data[:,1:-1]\n",
    "target_all = raw_data[:,-1]\n",
    "\n"
   ]
  },
  {
   "cell_type": "code",
   "execution_count": 7,
   "id": "93533495",
   "metadata": {},
   "outputs": [],
   "source": [
    "#Balanace the dataset. Make the number of 0's and 1's in the target to be equal to enable our model learn well\n",
    "\n",
    "#select number of targets that are one\n",
    "num_one_targets = int(np.sum(target_all))\n",
    "\n",
    "#calculate the number of 0's to remove\n",
    "zero_target_counter = 0\n",
    "\n",
    "indices_to_remove = []\n",
    "\n",
    "for entry in range(target_all.shape[0]):\n",
    "    if target_all[entry] == 0:\n",
    "        zero_target_counter += 1\n",
    "        if zero_target_counter > num_one_targets:\n",
    "            indices_to_remove.append(entry)\n",
    "\n",
    "unscaled_inputs_all_equal_priors = np.delete(unscaled_inputs_all,indices_to_remove, axis=0)\n",
    "target_equal_prior =np.delete(target_all,indices_to_remove, axis = 0)\n",
    "\n"
   ]
  },
  {
   "cell_type": "code",
   "execution_count": 15,
   "id": "9db7596c",
   "metadata": {},
   "outputs": [],
   "source": [
    "#Standardize the input\n",
    "scaled_inputs = preprocessing.scale(unscaled_inputs_all_equal_priors)\n",
    "\n",
    "#Shuffle the data to avoid baises by any inherent ordering \n",
    "shuffled_indices = np.arange(scaled_inputs.shape[0])\n",
    "np.random.shuffle(shuffled_indices)\n",
    "\n",
    "shuffled_inputs = scaled_inputs[shuffled_indices]\n",
    "shuffled_targets = target_equal_prior[shuffled_indices]"
   ]
  },
  {
   "cell_type": "code",
   "execution_count": 21,
   "id": "c8df927f",
   "metadata": {},
   "outputs": [
    {
     "name": "stdout",
     "output_type": "stream",
     "text": [
      "1793.0 3579 0.5009779267951942\n",
      "229.0 447 0.5123042505592841\n",
      "215.0 448 0.4799107142857143\n"
     ]
    }
   ],
   "source": [
    "#Split the data into training, validation, and test\n",
    "\n",
    "sample_count = shuffled_inputs.shape[0]\n",
    "\n",
    "train_sample_count = int(0.8*sample_count)\n",
    "validation_sample_count = int(0.1*sample_count)\n",
    "test_sample_count = sample_count - train_sample_count - validation_sample_count\n",
    "\n",
    "train_inputs = shuffled_inputs[:train_sample_count]\n",
    "train_targets = shuffled_targets[:train_sample_count]\n",
    "\n",
    "validation_inputs = shuffled_inputs[train_sample_count: train_sample_count+validation_sample_count]\n",
    "validation_targets = shuffled_targets[train_sample_count: train_sample_count+validation_sample_count]\n",
    "\n",
    "test_inputs = shuffled_inputs[train_sample_count+validation_sample_count:]\n",
    "test_targets = shuffled_targets[train_sample_count+validation_sample_count:]\n",
    "\n",
    "print(np.sum(train_targets), train_sample_count, np.sum(train_targets) / train_sample_count)\n",
    "print(np.sum(validation_targets), validation_sample_count, np.sum(validation_targets) / validation_sample_count)\n",
    "print(np.sum(test_targets), test_sample_count, np.sum(test_targets) / test_sample_count)\n",
    "\n",
    "\n",
    "\n"
   ]
  },
  {
   "cell_type": "code",
   "execution_count": 24,
   "id": "111e72a8",
   "metadata": {},
   "outputs": [],
   "source": [
    "#Save the three datasets in *.npz\n",
    "\n",
    "np.savez('Audiobooks_data_train', inputs=train_inputs, targets = train_targets)\n",
    "np.savez('Audiobooks_data_validation', inputs=validation_inputs, targets = validation_targets)\n",
    "np.savez('Audiobooks_data_test', inputs=test_inputs, targets = test_targets)"
   ]
  },
  {
   "cell_type": "code",
   "execution_count": null,
   "id": "36e7bc25",
   "metadata": {},
   "outputs": [],
   "source": []
  }
 ],
 "metadata": {
  "kernelspec": {
   "display_name": "Python 3 (ipykernel)",
   "language": "python",
   "name": "python3"
  },
  "language_info": {
   "codemirror_mode": {
    "name": "ipython",
    "version": 3
   },
   "file_extension": ".py",
   "mimetype": "text/x-python",
   "name": "python",
   "nbconvert_exporter": "python",
   "pygments_lexer": "ipython3",
   "version": "3.9.12"
  }
 },
 "nbformat": 4,
 "nbformat_minor": 5
}
